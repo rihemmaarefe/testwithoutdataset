{
  "cells": [
    {
      "cell_type": "markdown",
      "metadata": {
        "id": "view-in-github",
        "colab_type": "text"
      },
      "source": [
        "<a href=\"https://colab.research.google.com/github/rihemmaarefe/testwithoutdataset/blob/main/test.ipynb\" target=\"_parent\"><img src=\"https://colab.research.google.com/assets/colab-badge.svg\" alt=\"Open In Colab\"/></a>"
      ]
    },
    {
      "cell_type": "code",
      "execution_count": 160,
      "metadata": {
        "id": "MhiMAq6CNUTy"
      },
      "outputs": [],
      "source": [
        "# !pip install streamlit"
      ]
    },
    {
      "cell_type": "code",
      "execution_count": 161,
      "metadata": {
        "id": "vnYF26q4P9sU"
      },
      "outputs": [],
      "source": [
        "# !npm install localtunnel"
      ]
    },
    {
      "cell_type": "code",
      "execution_count": 162,
      "metadata": {
        "id": "Gb-vN4VTSP90"
      },
      "outputs": [],
      "source": [
        "# !pip install river"
      ]
    },
    {
      "cell_type": "code",
      "source": [
        "# !pip install seaborn"
      ],
      "metadata": {
        "id": "BMEuiHIO80fs"
      },
      "execution_count": 163,
      "outputs": []
    },
    {
      "cell_type": "code",
      "source": [
        "# !pip install pysqlite3"
      ],
      "metadata": {
        "id": "Mwowr1qly5dr"
      },
      "execution_count": 164,
      "outputs": []
    },
    {
      "cell_type": "code",
      "source": [
        "# !pip install sql"
      ],
      "metadata": {
        "id": "pWgsZJf7Bqdb"
      },
      "execution_count": 165,
      "outputs": []
    },
    {
      "cell_type": "code",
      "source": [
        "# %%writefile app.py"
      ],
      "metadata": {
        "id": "ePOenUmS1DaL"
      },
      "execution_count": 166,
      "outputs": []
    },
    {
      "cell_type": "code",
      "execution_count": 167,
      "metadata": {
        "colab": {
          "base_uri": "https://localhost:8080/"
        },
        "id": "SKT3JAhpORD8",
        "outputId": "31f7e333-08ae-4a57-f409-e8a50c27c9b4"
      },
      "outputs": [
        {
          "output_type": "stream",
          "name": "stdout",
          "text": [
            "Overwriting app.py\n"
          ]
        }
      ],
      "source": [
        "%%writefile app.py\n",
        "import streamlit as st\n",
        "import numpy as np\n",
        "import pandas as pd\n",
        "import seaborn as sns\n",
        "import altair as alt\n",
        "import matplotlib\n",
        "import matplotlib.pyplot as plt\n",
        "matplotlib.use('Agg')\n",
        "from datetime import datetime\n",
        "from PIL import Image\n",
        "\n",
        "# ML pkgs\n",
        "from river.naive_bayes import MultinomialNB\n",
        "from river.feature_extraction import BagOfWords,TFIDF\n",
        "from river.compose import Pipeline \n",
        "\n",
        "\n",
        "# Training data\n",
        "data = [\n",
        "    (\"i hate you\",\"subjective\"),\n",
        "    (\"The pizza at that restaurant is delicious\",\"subjective\"),\n",
        "    (\"That painting is beautiful\",\"subjective\"),\n",
        "    (\"She is the best boss I've ever had\",\"subjective\"),\n",
        "    (\"Summer is the best season of the year\",\"subjective\"),\n",
        "    (\"That book is really interesting\",\"subjective\"),\n",
        "    (\"I feel happy when I'm with my friends\",\"subjective\"),\n",
        "    (\"we are cooler\",\"subjective\"),\n",
        "    (\"The sky is blue\",\"objective\"),\n",
        "    (\"The temperature outside is 72 degrees Fahrenheit\",\"objective\"),\n",
        "    (\"The Earth revolves around the Sun\",\"objective\"),\n",
        "    (\"Oxygen is essential for human survival\",\"objective\"),\n",
        "    (\"The capital of France is Paris\",\"objective\"),\n",
        "    (\"Water is a transparent, odorless, tasteless liquid that is essential for most forms of life on Earth. It is composed of two hydrogen atoms and one oxygen atom and has the chemical formula H2\",\"objective\"),\n",
        "    (\"The average lifespan of a domestic cat is 12 to 15 years\",\"objective\"),\n",
        "    (\"The Mona Lisa is a painting by Leonardo da Vinci\",\"objective\"),\n",
        "    (\"A chair is a piece of furniture designed for sitting on, typically consisting of a seat, backrest, and sometimes armrests, supported by four legs or a single pedestal\",\"objective\"),\n",
        "    (\"Jupiter is the largest planet in our solar system.\",\"objective\"),\n",
        "    (\"It refers to a specific type of toy, typically a small, often anatomically correct figurine or representation of a human or animal. The meaning of the word is not influenced by personal opinions, feelings, or biases, which makes it an objective term\",\"objective\")\n",
        "]\n",
        "\n",
        "#model\n",
        "model = Pipeline(('vectorizer',BagOfWords(lowercase = True)),('nv',MultinomialNB()))\n",
        "for x,y in data:\n",
        "  model = model.learn_one(x,y)\n",
        "\n",
        "#Storage\n",
        "import sqlite3\n",
        "conn = sqlite3.connect('data.db')\n",
        "c = conn.cursor()\n",
        "\n",
        "def create_table():\n",
        "  c.execute('CREATE TABLE IF NOT EXISTS predictionTable(message TEXT,prediction TEXT,probability NUMBER,objective_proba NUMBER,subjective_proba NUMBER,postdate DATE)')\n",
        "\n",
        "\n",
        "def add_data(message,prediction,probability,objective_proba,subjective_proba,postdate):\n",
        "    c.execute('INSERT INTO predictionTable(message,prediction,probability,objective_proba,subjective_proba,postdate) VALUES (?,?,?,?,?,?)',(message,prediction,probability,objective_proba,subjective_proba,postdate))\n",
        "    conn.commit()\n",
        "\n",
        "def view_all_data():\n",
        "\tc.execute(\"SELECT * FROM predictionTable\")\n",
        "\tdata = c.fetchall()\n",
        "\treturn data\n",
        "\n",
        "\n",
        "menu = [\"Home\",\"Manage\",\"About\"]\n",
        "create_table()\n",
        "\n",
        "choice = st.sidebar.selectbox(\"Menu\",menu)\n",
        "if choice == \"Home\":\n",
        "  st.subheader(\"Home\")\n",
        "  with st.form(key='mlform'):\n",
        "    col1,col2 = st.columns([2,1])\n",
        "    with col1:\n",
        "      message = st.text_area(\"Message\")\n",
        "      submit_message = st.form_submit_button(label = 'Predict')\n",
        "    with col2:\n",
        "      st.write(\"********************\")  \n",
        "      st.write(\"Predict Text as Objective or Subjective\") \n",
        "      st.write(\"********************\")  \n",
        "\n",
        "  if submit_message:\n",
        "    prediction = model.predict_one(message)\n",
        "    prediction_proba = model.predict_proba_one(message)\n",
        "    probability = max(prediction_proba.values())\n",
        "    postdate = datetime.now()\n",
        "    \n",
        "    add_data(message,prediction,probability,prediction_proba['objective'],prediction_proba['subjective'],postdate)\n",
        "    st.success(\"Data Submitted\")\n",
        "    \n",
        "    res_col1 ,res_col2 = st.columns(2)\n",
        "    with res_col1:\n",
        "      st.info(\"Original Text\")\n",
        "      st.write(message)\n",
        "      \n",
        "      st.success(\"Prediction\")\n",
        "      st.write(prediction)\n",
        "    with res_col2:\n",
        "      st.info(\"Probability\")\n",
        "      #  plot\n",
        "      df_proba = pd.DataFrame({'label':prediction_proba.keys(),'probability':prediction_proba.values()})\n",
        "      # visz\n",
        "      fig = alt.Chart(df_proba).mark_bar().encode(x='label',y='probability')\n",
        "      st.altair_chart(fig,use_container_width=True)\t\n",
        "\n",
        "\n",
        "\n",
        "\n",
        "\n",
        "elif choice == \"Manage\":\n",
        "\tst.subheader(\"Manage & Monitor Results\")\n",
        "\tstored_data =  view_all_data() \n",
        "\tnew_df = pd.DataFrame(stored_data,columns=['message','prediction','probability','objective_proba','subjective_proba','postdate'])\n",
        "\tst.dataframe(new_df)\n",
        "\tnew_df['postdate'] = pd.to_datetime(new_df['postdate'])\n",
        "\n",
        "\t# c = alt.Chart(new_df).mark_line().encode(x='minutes(postdate)',y='probability')# For Minutes\n",
        "\tc = alt.Chart(new_df).mark_line().encode(x='postdate',y='probability')\n",
        "\tst.altair_chart(c)\n",
        "\t\n",
        "\tc_objective_proba = alt.Chart(new_df['objective_proba'].reset_index()).mark_line().encode(x='objective_proba',y='index')\n",
        "\tc_subjective_proba = alt.Chart(new_df['subjective_proba'].reset_index()).mark_line().encode(x='subjective_proba',y='index')\n",
        "\t\t\n",
        "\t\t\n",
        "\n",
        "\tc1,c2 = st.columns(2)\n",
        "\twith c1:\n",
        "\t\twith st.expander(\"Objective Probability\"):\n",
        "\t\t\tst.altair_chart(c_objective_proba,use_container_width=True)\n",
        "\n",
        "\twith c2:\n",
        "\t\twith st.expander(\"Subjective Probability\"):\n",
        "\t\t\tst.altair_chart(c_subjective_proba,use_container_width=True)\n",
        "\n",
        "\n",
        "\twith st.expander(\"Prediction Distribution\"):\n",
        "\t\tfig2 = plt.figure()\n",
        "\t\tsns.countplot(x='probability',data=new_df)\n",
        "\t\tst.pyplot(fig2)\n",
        "\t\t\n",
        "\n",
        "\n",
        "else:\n",
        "  st.subheader(\"About\")\n",
        "\n",
        "  col1,col2 = st.columns([2,1])\n",
        "  with col1:\n",
        "    st.write(\"********************\")  \n",
        "    st.write(\"Made by Rihem Maaref\")\n",
        "    st.write(\"Predict Text as Objective or Subjective\")\n",
        "    st.write(\"Using Machine Learning\")\n",
        "    st.write(\"With River and Naive Bayes\")\n",
        "    st.write(\"********************\")  \n",
        "\n",
        "  with col2:\n",
        "    st.write(\"********************\")  \n",
        "    image = Image.open('/content/drive/MyDrive/Stage/Exercises.jpg')\n",
        "    st.image(image)\n",
        "    st.write(\"********************\") \n"
      ]
    },
    {
      "cell_type": "code",
      "execution_count": 168,
      "metadata": {
        "colab": {
          "base_uri": "https://localhost:8080/"
        },
        "id": "86j0AKMUOUiS",
        "outputId": "081bb41d-0faf-4c40-d1c4-d4ae2c856782"
      },
      "outputs": [
        {
          "output_type": "stream",
          "name": "stdout",
          "text": [
            "app.py\tdata.db  drive\tlogs.txt  node_modules\tpackage-lock.json  sample_data\n"
          ]
        }
      ],
      "source": [
        "!ls"
      ]
    },
    {
      "cell_type": "code",
      "execution_count": 169,
      "metadata": {
        "id": "w2LrBZ8oOjrj"
      },
      "outputs": [],
      "source": [
        "# !pip install pyngrok"
      ]
    },
    {
      "cell_type": "code",
      "execution_count": 170,
      "metadata": {
        "id": "TWGIfJqjOW4N"
      },
      "outputs": [],
      "source": [
        "!streamlit run /content/app.py &>/content/logs.txt &"
      ]
    },
    {
      "cell_type": "code",
      "execution_count": 171,
      "metadata": {
        "colab": {
          "base_uri": "https://localhost:8080/"
        },
        "id": "d1Ceyg_xPCg0",
        "outputId": "0a35cd9b-f3f6-4855-dbc2-4dbdf3065da4"
      },
      "outputs": [
        {
          "output_type": "stream",
          "name": "stdout",
          "text": [
            "\u001b[K\u001b[?25hnpx: installed 22 in 3.954s\n",
            "your url is: https://solid-islands-boil-35-230-171-20.loca.lt\n",
            "^C\n"
          ]
        }
      ],
      "source": [
        "!npx localtunnel --port 8501"
      ]
    },
    {
      "cell_type": "code",
      "execution_count": 171,
      "metadata": {
        "id": "8J47TirDPgO6"
      },
      "outputs": [],
      "source": []
    }
  ],
  "metadata": {
    "colab": {
      "provenance": [],
      "mount_file_id": "1Er10G_p9pL7fqPKx0FxmPkO2qtTCKXr3",
      "authorship_tag": "ABX9TyOEZ0Kyj2KGWYu94xHt5dqf",
      "include_colab_link": true
    },
    "kernelspec": {
      "display_name": "Python 3",
      "name": "python3"
    },
    "language_info": {
      "name": "python"
    }
  },
  "nbformat": 4,
  "nbformat_minor": 0
}